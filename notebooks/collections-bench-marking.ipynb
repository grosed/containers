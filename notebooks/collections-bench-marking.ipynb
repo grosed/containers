{
 "cells": [
  {
   "cell_type": "markdown",
   "id": "6b22bb0c",
   "metadata": {},
   "source": [
    "# Benchmark Methods in Collections package"
   ]
  },
  {
   "cell_type": "markdown",
   "id": "498148c0",
   "metadata": {},
   "source": [
    "## Install the package"
   ]
  },
  {
   "cell_type": "code",
   "execution_count": 1,
   "id": "c3d3ad7a",
   "metadata": {},
   "outputs": [
    {
     "name": "stderr",
     "output_type": "stream",
     "text": [
      "Loading required package: usethis\n",
      "\n"
     ]
    }
   ],
   "source": [
    "library(devtools)"
   ]
  },
  {
   "cell_type": "code",
   "execution_count": 2,
   "id": "d0bd7652",
   "metadata": {},
   "outputs": [
    {
     "name": "stderr",
     "output_type": "stream",
     "text": [
      "Downloading GitHub repo grosed/containers@HEAD\n",
      "\n"
     ]
    },
    {
     "name": "stdout",
     "output_type": "stream",
     "text": [
      "\n",
      "\u001b[36m──\u001b[39m \u001b[36mR CMD build\u001b[39m \u001b[36m────────────────────────────────────────────────────────────────────────────────────────────────────────────────────────────────────────────────────────\u001b[39m\n",
      "\u001b[32m✔\u001b[39m  \u001b[90mchecking for file ‘/tmp/RtmpnGHNtf/remotes10ab256a93ed9/grosed-containers-4b77fc0/collections/DESCRIPTION’\u001b[39m\u001b[36m\u001b[39m\n",
      "\u001b[90m─\u001b[39m\u001b[90m  \u001b[39m\u001b[90mpreparing ‘collections’:\u001b[39m\u001b[36m\u001b[39m\n",
      "\u001b[32m✔\u001b[39m  \u001b[90mchecking DESCRIPTION meta-information\u001b[39m\u001b[36m\u001b[39m\n",
      "\u001b[90m─\u001b[39m\u001b[90m  \u001b[39m\u001b[90mcleaning src\u001b[39m\u001b[36m\u001b[39m\n",
      "\u001b[90m─\u001b[39m\u001b[90m  \u001b[39m\u001b[90mchecking for LF line-endings in source and make files and shell scripts\u001b[39m\u001b[36m\u001b[39m\n",
      "\u001b[90m─\u001b[39m\u001b[90m  \u001b[39m\u001b[90mchecking for empty or unneeded directories\u001b[39m\u001b[36m\u001b[39m\n",
      "\u001b[90m─\u001b[39m\u001b[90m  \u001b[39m\u001b[90mbuilding ‘collections_1.0.tar.gz’\u001b[39m\u001b[36m\u001b[39m\n",
      "   \n",
      "\r"
     ]
    },
    {
     "name": "stderr",
     "output_type": "stream",
     "text": [
      "Installing package into ‘/home/grosedj/work/work-env/R-packages’\n",
      "(as ‘lib’ is unspecified)\n",
      "\n"
     ]
    }
   ],
   "source": [
    "install_github(\"grosed/containers/collections\")"
   ]
  },
  {
   "cell_type": "code",
   "execution_count": 3,
   "id": "825c1a7f",
   "metadata": {},
   "outputs": [],
   "source": [
    "library(collections)\n",
    "library(tictoc)"
   ]
  },
  {
   "cell_type": "markdown",
   "id": "5ed4ee39",
   "metadata": {},
   "source": [
    "## Time **push_front**"
   ]
  },
  {
   "cell_type": "code",
   "execution_count": 4,
   "id": "56fd7feb",
   "metadata": {},
   "outputs": [
    {
     "name": "stdout",
     "output_type": "stream",
     "text": [
      "$tic\n",
      "elapsed \n",
      " 17.887 \n",
      "\n",
      "$toc\n",
      "elapsed \n",
      " 20.356 \n",
      "\n",
      "$msg\n",
      "logical(0)\n",
      "\n",
      "$callback_msg\n",
      "[1] \"2.469 sec elapsed\"\n",
      "\n"
     ]
    }
   ],
   "source": [
    "d <- new(deque)\n",
    "n <- 500000\n",
    "tic(quiet=TRUE)\n",
    "for(i in 1:n)\n",
    "    {\n",
    "       d$push_front(i)\n",
    "    }\n",
    "res <- toc(quiet=TRUE)\n",
    "print(res)"
   ]
  },
  {
   "cell_type": "markdown",
   "id": "6f3962e8",
   "metadata": {},
   "source": [
    "## Time **pop_front**"
   ]
  },
  {
   "cell_type": "code",
   "execution_count": 5,
   "id": "cdd139bd",
   "metadata": {},
   "outputs": [
    {
     "name": "stdout",
     "output_type": "stream",
     "text": [
      "$tic\n",
      "elapsed \n",
      " 21.707 \n",
      "\n",
      "$toc\n",
      "elapsed \n",
      " 23.945 \n",
      "\n",
      "$msg\n",
      "logical(0)\n",
      "\n",
      "$callback_msg\n",
      "[1] \"2.238 sec elapsed\"\n",
      "\n"
     ]
    }
   ],
   "source": [
    "tic(quiet=TRUE)\n",
    "for(i in 1:n)\n",
    "    {\n",
    "       d$pop_front()\n",
    "    }\n",
    "res <- toc(quiet=TRUE)\n",
    "print(res)"
   ]
  },
  {
   "cell_type": "markdown",
   "id": "d3e1bc78",
   "metadata": {},
   "source": [
    "## Time dispatching via Rcpp"
   ]
  },
  {
   "cell_type": "code",
   "execution_count": 9,
   "id": "23769f33",
   "metadata": {},
   "outputs": [
    {
     "name": "stdout",
     "output_type": "stream",
     "text": [
      "$tic\n",
      "elapsed \n",
      "158.147 \n",
      "\n",
      "$toc\n",
      "elapsed \n",
      "160.363 \n",
      "\n",
      "$msg\n",
      "logical(0)\n",
      "\n",
      "$callback_msg\n",
      "[1] \"2.216 sec elapsed\"\n",
      "\n"
     ]
    }
   ],
   "source": [
    "tic(quiet=TRUE)\n",
    "for(i in 1:n)\n",
    "    {\n",
    "       d$dispatch()\n",
    "    }\n",
    "res <- toc(quiet=TRUE)\n",
    "print(res)"
   ]
  },
  {
   "cell_type": "code",
   "execution_count": null,
   "id": "35b388ad",
   "metadata": {},
   "outputs": [],
   "source": []
  }
 ],
 "metadata": {
  "kernelspec": {
   "display_name": "R",
   "language": "R",
   "name": "ir"
  },
  "language_info": {
   "codemirror_mode": "r",
   "file_extension": ".r",
   "mimetype": "text/x-r-source",
   "name": "R",
   "pygments_lexer": "r",
   "version": "4.2.2"
  }
 },
 "nbformat": 4,
 "nbformat_minor": 5
}
