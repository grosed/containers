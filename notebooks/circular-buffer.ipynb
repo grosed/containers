{
 "cells": [
  {
   "cell_type": "code",
   "execution_count": null,
   "id": "c77bc563-f8f3-4bed-9059-a4bd0edbe669",
   "metadata": {},
   "outputs": [],
   "source": []
  },
  {
   "cell_type": "markdown",
   "id": "07fe8111-731e-4c5a-ad64-f75f0bb65b63",
   "metadata": {},
   "source": [
    "## Motivating example (taken from stack overflow 2015)"
   ]
  },
  {
   "cell_type": "markdown",
   "id": "5bfb2a65-72de-4ff6-93eb-a3d0a26f7a0a",
   "metadata": {},
   "source": [
    "**A**\n",
    "\n",
    "Does a R package exist which implements a circular array or vector in the sense of FIFO?\n",
    "\n",
    "Say we have this array:\n",
    "\n",
    "2 4 7 1\n",
    "\n",
    "When inserting a new observation(say 3) at position 1, I want the n-th element to be replaced with the n-1st element:\n",
    "\n",
    "3 2 4 7"
   ]
  },
  {
   "cell_type": "markdown",
   "id": "73619319-75e7-4228-8821-b18502f7cbe9",
   "metadata": {},
   "source": [
    "**B**\n",
    "\n",
    "You could try c() and cut off the length of the result.\n",
    "```R\n",
    "x <- c(2, 4, 7, 1)\n",
    "c(3, x)[1:length(x)]\n",
    "# [1] 3 2 4 7\n",
    "```\n",
    "This method does not make any copies of x\n",
    "```R\n",
    "tracemem(x)\n",
    "\"<0x3cb5998>\"\n",
    "c(3, x)[1:length(x)]\n",
    "3 2 4 7\n",
    "untracemem(x)\n",
    "```\n",
    "The source code for append() looks like it might have some useful methods to try out as well.\n",
    "```R\n",
    "append\n",
    "function (x, values, after = length(x)) \n",
    " {\n",
    "     lengx <- length(x)\n",
    "     if (!after) \n",
    "        c(values, x)\n",
    "     else if (after >= lengx) \n",
    "         c(x, values)\n",
    "     else c(x[1L:after], values, x[(after + 1L):lengx])\n",
    " }\n",
    " <bytecode: 0x31ac490>\n",
    " <environment: namespace:base>\n",
    " ```"
   ]
  },
  {
   "cell_type": "markdown",
   "id": "327f7823-c608-4814-af37-ac085dd774f8",
   "metadata": {},
   "source": [
    "**A**\n",
    "\n",
    "That came to my mind also, but I'm wondering if this is efficient for very large arrays which are updated at hight frequencies?"
   ]
  },
  {
   "cell_type": "markdown",
   "id": "f5d6637d-001f-4257-8611-1764461c6f3a",
   "metadata": {},
   "source": [
    "**B**\n",
    "\n",
    "I don't see why it wouldn't be. These are all primitive functions"
   ]
  },
  {
   "cell_type": "markdown",
   "id": "be2a4ed5-5dd7-41a2-8c2e-f70984cc764a",
   "metadata": {},
   "source": [
    "**A**\n",
    "\n",
    "Isn't the array copied for each insertion?"
   ]
  },
  {
   "cell_type": "markdown",
   "id": "c2a8ad11-501e-4f78-8c12-e1a73ee1282e",
   "metadata": {},
   "source": [
    "**B**\n",
    "\n",
    "Not from what I see from tracemem() (see edited post)."
   ]
  },
  {
   "cell_type": "markdown",
   "id": "dfdfa988-66aa-40c6-852f-4f287afcc840",
   "metadata": {},
   "source": [
    "**C**\n",
    "\n",
    "Well, **B**'s solution is most likely the way to go but if you're in an adventurous mood you can try Rexamine/DataStructures:\n",
    "```R\n",
    "> devtools::install_github(\"Rexamine/DataStructures\")\n",
    "> library(DataStructures)\n",
    "> q <- queue_create()\n",
    "> queue_empty(q)\n",
    "[1] TRUE\n",
    "> for (i in c(1, 7, 4, 2)) { queue_push(q, i) }\n",
    "> queue_empty(q)\n",
    "[1] FALSE\n",
    "> queue_pop(q)\n",
    "[1] 1\n",
    "> format(q)\n",
    "[1] \"7\" \"4\" \"2\"\n",
    "> queue_push(q, 3)\n",
    "```\n",
    "\n",
    "Hard to say if it stable enough to be used in practice though and it seems to be only marginally faster than a simple concatenation."
   ]
  },
  {
   "cell_type": "markdown",
   "id": "daefcec2-dd12-4fb6-abc7-4d4c71ddf161",
   "metadata": {},
   "source": [
    "## What is the complexity of the suggested solution ?"
   ]
  },
  {
   "cell_type": "code",
   "execution_count": 177,
   "id": "57d291a0-fb20-4018-83db-b5d98837731e",
   "metadata": {},
   "outputs": [
    {
     "data": {
      "image/png": "[encoded data removed]",
      "text/plain": [
       "plot without title"
      ]
     },
     "metadata": {
      "image/png": {
       "height": 420,
       "width": 420
      }
     },
     "output_type": "display_data"
    }
   ],
   "source": [
    "library(tictoc)\n",
    "m <- 5000\n",
    "k <- 8\n",
    "N <- Map(function(n) 1000*2^n,0:k)\n",
    "T <- c()\n",
    "for(n in N)\n",
    "{\n",
    "    cbuffer <- rnorm(n,0,1)\n",
    "    data <- rnorm(m,0,1)\n",
    "    tic(quiet=TRUE)\n",
    "    for(x in data)\n",
    "    {\n",
    "        cbuffer <- c(x,cbuffer)[2:length(cbuffer)]\n",
    "    }\n",
    "    res <- toc(quiet=TRUE)\n",
    "    t <- as.numeric(res$toc - res$tic)\n",
    "    T <- c(T,t)\n",
    "}\n",
    "plot(N,T)"
   ]
  },
  {
   "cell_type": "markdown",
   "id": "5130af5b-cd16-4104-b943-29d5e902d793",
   "metadata": {},
   "source": [
    "The first characteristic of **R** that is important to be aware of is that vectors are _homogenous containers_ of _primitive types_. The primitive types are **double**<sup>1</sup>, **integer**, **character**, **logical**, **complex**, and **factor**. The automatic conversion rules between types stored in a vector are also important to understand, particularly given that the vector may be copied when conversion takes place. (**NB** - *need to check what actually happens* !) \n",
    "\n",
    "<sup>1</sup>**double** and the type **numeric** are synomynous in **R**.\n",
    "\n"
   ]
  },
  {
   "cell_type": "code",
   "execution_count": 131,
   "id": "8562add5-5fcb-491f-a8dc-86fcbaaee8cb",
   "metadata": {},
   "outputs": [],
   "source": [
    "circular_buffer <- function(size,type=double)\n",
    "    {\n",
    "      e <- new.env()\n",
    "      e$buffer <- type(size)\n",
    "      e$front <- e$back <- NULL\n",
    "      class(e) <- \"circular_buffer\"\n",
    "      return(e)\n",
    "    }"
   ]
  },
  {
   "cell_type": "code",
   "execution_count": 134,
   "id": "54b62686-6203-43d6-9a21-2f8c9e6ee80a",
   "metadata": {},
   "outputs": [],
   "source": [
    "setClass(\"circular_buffer\")"
   ]
  },
  {
   "cell_type": "code",
   "execution_count": 135,
   "id": "a502da17-db41-4592-aece-532d13b32c99",
   "metadata": {},
   "outputs": [
    {
     "data": {
      "text/html": [
       "'push_back'"
      ],
      "text/latex": [
       "'push\\_back'"
      ],
      "text/markdown": [
       "'push_back'"
      ],
      "text/plain": [
       "[1] \"push_back\""
      ]
     },
     "metadata": {},
     "output_type": "display_data"
    }
   ],
   "source": [
    "setGeneric(\"push_back\", function(object,value) {\n",
    "  standardGeneric(\"push_back\")\n",
    "})"
   ]
  },
  {
   "cell_type": "code",
   "execution_count": 174,
   "id": "ba87f8fc-f131-433d-a72d-75163ce81f87",
   "metadata": {},
   "outputs": [],
   "source": [
    "setMethod(\"push_back\", signature(object = \"circular_buffer\"), function(object,value) \n",
    "{\n",
    "    if(is.null(object$front))\n",
    "    {\n",
    "        object$front <- object$back <- 0L\n",
    "    }\n",
    "    else\n",
    "    {\n",
    "        object$back <- (object$back + 1L)%%length(object$buffer)\n",
    "        if(object$back == object$front)\n",
    "        {\n",
    "            object$front <- (object$front + 1L)%%length(object$buffer)\n",
    "        }\n",
    "    }\n",
    "    object$buffer[object$back + 1L] <- value\n",
    "    return(object)\n",
    "})"
   ]
  },
  {
   "cell_type": "code",
   "execution_count": 160,
   "id": "1be241df-ba45-4acb-b629-e939a5f044c3",
   "metadata": {},
   "outputs": [
    {
     "data": {
      "text/html": [
       "TRUE"
      ],
      "text/latex": [
       "TRUE"
      ],
      "text/markdown": [
       "TRUE"
      ],
      "text/plain": [
       "[1] TRUE"
      ]
     },
     "metadata": {},
     "output_type": "display_data"
    }
   ],
   "source": [
    "is.integer(length(cb$buffer))"
   ]
  },
  {
   "cell_type": "code",
   "execution_count": null,
   "id": "4932efb7-b822-4531-bc5e-bdadb85c689b",
   "metadata": {},
   "outputs": [],
   "source": []
  },
  {
   "cell_type": "code",
   "execution_count": null,
   "id": "aa7c01fd-92e4-4873-bff3-0db66e5ebef0",
   "metadata": {},
   "outputs": [],
   "source": []
  },
  {
   "cell_type": "code",
   "execution_count": 180,
   "id": "2bc5dc24-574e-4572-8050-6a5b52d66317",
   "metadata": {},
   "outputs": [
    {
     "data": {
      "image/png": "[encoded data removed]",
      "text/plain": [
       "plot without title"
      ]
     },
     "metadata": {
      "image/png": {
       "height": 420,
       "width": 420
      }
     },
     "output_type": "display_data"
    }
   ],
   "source": [
    "library(tictoc)\n",
    "m <- 5000\n",
    "k <- 16\n",
    "N <- Map(function(n) 1000*2^n,0:k)\n",
    "T <- c()\n",
    "for(n in N)\n",
    "{\n",
    "    cbuffer <- circular_buffer(m,double)\n",
    "    data <- rnorm(m,0,1)\n",
    "    tic(quiet=TRUE)\n",
    "    for(x in data)\n",
    "    {\n",
    "        cbuffer <- push_back(cbuffer,x)\n",
    "    }\n",
    "    res <- toc(quiet=TRUE)\n",
    "    t <- as.numeric(res$toc - res$tic)\n",
    "    T <- c(T,t)\n",
    "}\n",
    "plot(N,T)"
   ]
  },
  {
   "cell_type": "code",
   "execution_count": 181,
   "id": "2f0c2b61-0842-4d21-83be-28e2641ce5ca",
   "metadata": {},
   "outputs": [
    {
     "data": {
      "text/html": [
       "<style>\n",
       ".list-inline {list-style: none; margin:0; padding: 0}\n",
       ".list-inline>li {display: inline-block}\n",
       ".list-inline>li:not(:last-child)::after {content: \"\\00b7\"; padding: 0 .5ex}\n",
       "</style>\n",
       "<ol class=list-inline><li>0.962998656729327</li><li>0.658219533262618</li><li>0.115144246807555</li><li>0.824742908133367</li><li>-0.0462868320803678</li><li>0.309772652873542</li><li>0.32316204293005</li><li>0.748331866713425</li><li>2.84129091126381</li><li>0.849271602212028</li></ol>\n"
      ],
      "text/latex": [
       "\\begin{enumerate*}\n",
       "\\item 0.962998656729327\n",
       "\\item 0.658219533262618\n",
       "\\item 0.115144246807555\n",
       "\\item 0.824742908133367\n",
       "\\item -0.0462868320803678\n",
       "\\item 0.309772652873542\n",
       "\\item 0.32316204293005\n",
       "\\item 0.748331866713425\n",
       "\\item 2.84129091126381\n",
       "\\item 0.849271602212028\n",
       "\\end{enumerate*}\n"
      ],
      "text/markdown": [
       "1. 0.962998656729327\n",
       "2. 0.658219533262618\n",
       "3. 0.115144246807555\n",
       "4. 0.824742908133367\n",
       "5. -0.0462868320803678\n",
       "6. 0.309772652873542\n",
       "7. 0.32316204293005\n",
       "8. 0.748331866713425\n",
       "9. 2.84129091126381\n",
       "10. 0.849271602212028\n",
       "\n",
       "\n"
      ],
      "text/plain": [
       " [1]  0.96299866  0.65821953  0.11514425  0.82474291 -0.04628683  0.30977265\n",
       " [7]  0.32316204  0.74833187  2.84129091  0.84927160"
      ]
     },
     "metadata": {},
     "output_type": "display_data"
    }
   ],
   "source": [
    "cbuffer$buffer[1:10]"
   ]
  },
  {
   "cell_type": "code",
   "execution_count": null,
   "id": "83ca5276-118c-4138-8215-c27ed03bdaf9",
   "metadata": {},
   "outputs": [],
   "source": []
  },
  {
   "cell_type": "code",
   "execution_count": null,
   "id": "9c451f91-7972-4509-94ff-edda03e7c3aa",
   "metadata": {},
   "outputs": [],
   "source": []
  },
  {
   "cell_type": "markdown",
   "id": "4db31a58-01c2-4945-9c48-9753193d807c",
   "metadata": {},
   "source": [
    "## Iteration"
   ]
  },
  {
   "cell_type": "code",
   "execution_count": 182,
   "id": "1e0cf421-b97c-4ee2-815a-9d9d581acf9b",
   "metadata": {},
   "outputs": [
    {
     "data": {
      "text/html": [
       "'iterator'"
      ],
      "text/latex": [
       "'iterator'"
      ],
      "text/markdown": [
       "'iterator'"
      ],
      "text/plain": [
       "[1] \"iterator\""
      ]
     },
     "metadata": {},
     "output_type": "display_data"
    }
   ],
   "source": [
    "setClass(\"circular_buffer_iterator\")\n",
    "setGeneric(\"iterator\", function(object) {\n",
    "  standardGeneric(\"iterator\")\n",
    "})"
   ]
  },
  {
   "cell_type": "code",
   "execution_count": 183,
   "id": "cd2d23c1-350b-4dc4-9172-7d4af77928c9",
   "metadata": {},
   "outputs": [],
   "source": [
    "setMethod(\"iterator\", signature(object = \"circular_buffer\"), function(object) \n",
    "{\n",
    "    e <- new.env()\n",
    "    e$object <- object\n",
    "    e$cursor <- object$front\n",
    "    class(e) <- \"circular_buffer\"\n",
    "    return(e)\n",
    "})"
   ]
  },
  {
   "cell_type": "code",
   "execution_count": 184,
   "id": "5fc43c88-1dbf-4419-92fb-723c833a97a5",
   "metadata": {},
   "outputs": [
    {
     "name": "stdout",
     "output_type": "stream",
     "text": [
      "[1] \"hello from iterator for type circular_buffer\"\n"
     ]
    }
   ],
   "source": [
    "iterator(cbuffer)"
   ]
  },
  {
   "cell_type": "code",
   "execution_count": 203,
   "id": "08202e51-6e2b-47b9-81e5-3d510c61e72d",
   "metadata": {},
   "outputs": [
    {
     "data": {
      "text/html": [
       "'get_next'"
      ],
      "text/latex": [
       "'get\\_next'"
      ],
      "text/markdown": [
       "'get_next'"
      ],
      "text/plain": [
       "[1] \"get_next\""
      ]
     },
     "metadata": {},
     "output_type": "display_data"
    }
   ],
   "source": [
    "setClass(\"get_next\")\n",
    "setGeneric(\"get_next\", function(object) {\n",
    "  standardGeneric(\"get_next\")\n",
    "})"
   ]
  },
  {
   "cell_type": "code",
   "execution_count": 186,
   "id": "764b67d5-ab8a-4dfd-b53a-5a0a1a8f2093",
   "metadata": {},
   "outputs": [
    {
     "ename": "ERROR",
     "evalue": "Error in eval(expr, envir, enclos): no loop for break/next, jumping to top level\n",
     "output_type": "error",
     "traceback": [
      "Error in eval(expr, envir, enclos): no loop for break/next, jumping to top level\nTraceback:\n"
     ]
    }
   ],
   "source": [
    "setMethod(\"get_next\", signature(object = \"get_\"), function(object) \n",
    "{\n",
    "    e <- new.env()\n",
    "    e$object <- object\n",
    "    e$cursor <- object$front\n",
    "    class(e) <- \"circular_buffer\"\n",
    "    return(e)\n",
    "})"
   ]
  },
  {
   "cell_type": "code",
   "execution_count": null,
   "id": "f90745dc-0d7c-4b1c-a4fa-66fa508fb707",
   "metadata": {},
   "outputs": [],
   "source": [
    "circular_buffer_iterator <- function(size,type=double)\n",
    "    {\n",
    "      e <- new.env()\n",
    "      e$buffer <- type(size)\n",
    "      e$front <- e$back <- NULL\n",
    "      class(e) <- \"circular_buffer\"\n",
    "      return(e)\n",
    "    }"
   ]
  },
  {
   "cell_type": "code",
   "execution_count": 199,
   "id": "b0d76ad9-9dcd-4861-8f6e-223a4daa246d",
   "metadata": {},
   "outputs": [
    {
     "data": {
      "text/html": [
       "'+'"
      ],
      "text/latex": [
       "'+'"
      ],
      "text/markdown": [
       "'+'"
      ],
      "text/plain": [
       "[1] \"+\""
      ]
     },
     "metadata": {},
     "output_type": "display_data"
    }
   ],
   "source": [
    "setGeneric(\"+\")"
   ]
  },
  {
   "cell_type": "code",
   "execution_count": 205,
   "id": "459c549d-6aa7-4391-b636-840f9201777a",
   "metadata": {},
   "outputs": [
    {
     "data": {
      "text/html": [
       "<pre class=language-r><code>new(\"standardGeneric\", .Data = function (x, i, j, ..., value) \n",
       "standardGeneric(\"[&lt;-\", .Primitive(\"[&lt;-\")), generic = structure(\"[&lt;-\", package = \"base\"), \n",
       "<span style=white-space:pre-wrap>    package = \"base\", group = list(), valueClass = character(0), </span>\n",
       "<span style=white-space:pre-wrap>    signature = c(\"x\", \"i\", \"j\", \"value\"), default = .Primitive(\"[&lt;-\"), </span>\n",
       "<span style=white-space:pre-wrap>    skeleton = .Primitive(\"[&lt;-\")(x, i, j, ..., value = value))</span></code></pre>"
      ],
      "text/latex": [
       "\\begin{minted}{r}\n",
       "new(\"standardGeneric\", .Data = function (x, i, j, ..., value) \n",
       "standardGeneric(\"{[}<-\", .Primitive(\"{[}<-\")), generic = structure(\"{[}<-\", package = \"base\"), \n",
       "    package = \"base\", group = list(), valueClass = character(0), \n",
       "    signature = c(\"x\", \"i\", \"j\", \"value\"), default = .Primitive(\"{[}<-\"), \n",
       "    skeleton = .Primitive(\"{[}<-\")(x, i, j, ..., value = value))\n",
       "\\end{minted}"
      ],
      "text/markdown": [
       "```r\n",
       "new(\"standardGeneric\", .Data = function (x, i, j, ..., value) \n",
       "standardGeneric(\"[<-\", .Primitive(\"[<-\")), generic = structure(\"[<-\", package = \"base\"), \n",
       "    package = \"base\", group = list(), valueClass = character(0), \n",
       "    signature = c(\"x\", \"i\", \"j\", \"value\"), default = .Primitive(\"[<-\"), \n",
       "    skeleton = .Primitive(\"[<-\")(x, i, j, ..., value = value))\n",
       "```"
      ],
      "text/plain": [
       "new(\"standardGeneric\", .Data = function (x, i, j, ..., value) \n",
       "standardGeneric(\"[<-\", .Primitive(\"[<-\")), generic = \"[<-\", package = \"base\", \n",
       "    group = list(), valueClass = character(0), signature = c(\"x\", \n",
       "    \"i\", \"j\", \"value\"), default = .Primitive(\"[<-\"), skeleton = .Primitive(\"[<-\")(x, \n",
       "        i, j, ..., value = value))\n",
       "<bytecode: 0x563ce59d1810>\n",
       "<environment: 0x563ce59cbc28>\n",
       "attr(,\"generic\")\n",
       "[1] \"[<-\"\n",
       "attr(,\"generic\")attr(,\"package\")\n",
       "[1] \"base\"\n",
       "attr(,\"package\")\n",
       "[1] \"base\"\n",
       "attr(,\"group\")\n",
       "list()\n",
       "attr(,\"valueClass\")\n",
       "character(0)\n",
       "attr(,\"signature\")\n",
       "[1] \"x\"     \"i\"     \"j\"     \"value\"\n",
       "attr(,\"default\")\n",
       ".Primitive(\"[<-\")\n",
       "attr(,\"skeleton\")\n",
       ".Primitive(\"[<-\")(x, i, j, ..., value = value)\n",
       "attr(,\"class\")\n",
       "[1] \"standardGeneric\"\n",
       "attr(,\"class\")attr(,\"package\")\n",
       "[1] \"methods\""
      ]
     },
     "metadata": {},
     "output_type": "display_data"
    }
   ],
   "source": [
    "getGeneric(\"[<-\")"
   ]
  },
  {
   "cell_type": "code",
   "execution_count": 201,
   "id": "3146ddb6-187a-437b-82ae-0ab3ad036ccf",
   "metadata": {},
   "outputs": [],
   "source": [
    "setMethod(\"[<-\",signature(\"circular_buffer_iterator\"),\n",
    "          function(x,i,j,...) {print(\"hello from [<- for types cb,cb\")})"
   ]
  },
  {
   "cell_type": "code",
   "execution_count": 202,
   "id": "688d4789-401d-417c-a6ab-3795f4144ef9",
   "metadata": {},
   "outputs": [
    {
     "ename": "ERROR",
     "evalue": "Error in cbuffer + cbuffer: non-numeric argument to binary operator\n",
     "output_type": "error",
     "traceback": [
      "Error in cbuffer + cbuffer: non-numeric argument to binary operator\nTraceback:\n"
     ]
    }
   ],
   "source": [
    "cbuffer+cbuffer"
   ]
  }
 ],
 "metadata": {
  "kernelspec": {
   "display_name": "R",
   "language": "R",
   "name": "ir"
  },
  "language_info": {
   "codemirror_mode": "r",
   "file_extension": ".r",
   "mimetype": "text/x-r-source",
   "name": "R",
   "pygments_lexer": "r",
   "version": "4.2.2"
  }
 },
 "nbformat": 4,
 "nbformat_minor": 5
}
